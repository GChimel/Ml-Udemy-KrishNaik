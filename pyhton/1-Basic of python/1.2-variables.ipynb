{
 "cells": [
  {
   "cell_type": "markdown",
   "metadata": {},
   "source": [
    "# Variables\n",
    "\n",
    "Variables are fundamental elements is programming used to store data that can be referenced and manipulated in a program. In Python, variables are created when you assign a value to them, and they do not need explicit declaration to reserve memory stapce. The declaration happens automatically when you assign a value to a variable."
   ]
  },
  {
   "cell_type": "markdown",
   "metadata": {},
   "source": [
    "### Declaring and assigning variables"
   ]
  },
  {
   "cell_type": "code",
   "execution_count": null,
   "metadata": {},
   "outputs": [
    {
     "name": "stdout",
     "output_type": "stream",
     "text": [
      "Gustavo 21 190 True\n"
     ]
    }
   ],
   "source": [
    "age=21\n",
    "height=190\n",
    "name=\"Gustavo\"\n",
    "is_student=True\n",
    "\n",
    "print(name, age, height, is_student)"
   ]
  },
  {
   "cell_type": "markdown",
   "metadata": {},
   "source": [
    "### Naming conventions\n",
    "\n",
    "Variables names sould be descriptive. They must start with a letter contain letter, number and underscores. Variables names are case sensitive"
   ]
  },
  {
   "cell_type": "code",
   "execution_count": 4,
   "metadata": {},
   "outputs": [
    {
     "data": {
      "text/plain": [
       "'\\n1my_name=\"Gustavo\"\\nmy-name=\"Gustavo\"\\n@my_name=\"Gustavo\"\\n'"
      ]
     },
     "execution_count": 4,
     "metadata": {},
     "output_type": "execute_result"
    }
   ],
   "source": [
    "# Valid valiables names:\n",
    "my_name=\"Gustavo\"\n",
    "\n",
    "# Invalid valiables names:\n",
    "'''\n",
    "1my_name=\"Gustavo\"\n",
    "my-name=\"Gustavo\"\n",
    "@my_name=\"Gustavo\"\n",
    "'''\n",
    "\n"
   ]
  },
  {
   "cell_type": "markdown",
   "metadata": {},
   "source": [
    "### Variables Types\n",
    "\n",
    "Python is dynamiclly typed, type of a variables is determined at runtime."
   ]
  },
  {
   "cell_type": "code",
   "execution_count": 11,
   "metadata": {},
   "outputs": [
    {
     "name": "stdout",
     "output_type": "stream",
     "text": [
      "age : <class 'int'>\n",
      "name : <class 'str'>\n",
      "height : <class 'float'>\n",
      "is_student : <class 'bool'>\n",
      "age_str : <class 'str'>\n",
      "height_int : <class 'int'>\n"
     ]
    }
   ],
   "source": [
    "age=21 #int\n",
    "name=\"Gustavo\" #str\n",
    "height=1.90 #float\n",
    "is_student=True #bool\n",
    "\n",
    "print(\"age :\",type(age))\n",
    "print(\"name :\",type(name))\n",
    "print(\"height :\",type(height))\n",
    "print(\"is_student :\",type(is_student))\n",
    "\n",
    "\n",
    "# Type Conversion\n",
    "\n",
    "age_str=str(age)\n",
    "height_int=int(height) #1.90 -> 1\n",
    "print(\"age_str :\",type(age_str))\n",
    "print(\"height_int :\",type(height_int))"
   ]
  },
  {
   "cell_type": "markdown",
   "metadata": {},
   "source": [
    "### Dynamic Typing\n",
    "\n",
    "Python allows the type of a variables to change as the program exacutes"
   ]
  },
  {
   "cell_type": "code",
   "execution_count": null,
   "metadata": {},
   "outputs": [
    {
     "name": "stdout",
     "output_type": "stream",
     "text": [
      "10 <class 'int'>\n",
      "hello <class 'str'>\n"
     ]
    }
   ],
   "source": [
    "var=10\n",
    "print(var, type(var))\n",
    "\n",
    "var=\"hello\"\n",
    "print(var, type(var))"
   ]
  },
  {
   "cell_type": "markdown",
   "metadata": {},
   "source": [
    "### Input"
   ]
  },
  {
   "cell_type": "code",
   "execution_count": 17,
   "metadata": {},
   "outputs": [
    {
     "name": "stdout",
     "output_type": "stream",
     "text": [
      "10 <class 'str'>\n",
      "10 <class 'int'>\n"
     ]
    }
   ],
   "source": [
    "# By default, input() returns a string\n",
    "\n",
    "age=input(\"What is your age?\")\n",
    "print(age, type(age))\n",
    "\n",
    "agr=int(input(\"What is your age?\"))\n",
    "print(agr, type(agr))"
   ]
  },
  {
   "cell_type": "markdown",
   "metadata": {},
   "source": [
    "### Simple calculator example"
   ]
  },
  {
   "cell_type": "code",
   "execution_count": 18,
   "metadata": {},
   "outputs": [
    {
     "name": "stdout",
     "output_type": "stream",
     "text": [
      "Sum : 19.0\n",
      "Difference : 1.0\n",
      "Product : 90.0\n",
      "Quotient : 1.1111111111111112\n"
     ]
    }
   ],
   "source": [
    "num1 = float(input(\"Enter first number: \"))\n",
    "num2 = float(input(\"Enter secound number: \"))\n",
    "\n",
    "sum = num1 + num2\n",
    "difference = num1 - num2\n",
    "product = num1 * num2\n",
    "quotient = num1 / num2\n",
    "\n",
    "print(\"Sum :\", sum)\n",
    "print(\"Difference :\", difference)\n",
    "print(\"Product :\", product)\n",
    "print(\"Quotient :\", quotient)"
   ]
  },
  {
   "cell_type": "code",
   "execution_count": null,
   "metadata": {},
   "outputs": [],
   "source": []
  }
 ],
 "metadata": {
  "kernelspec": {
   "display_name": "base",
   "language": "python",
   "name": "python3"
  },
  "language_info": {
   "codemirror_mode": {
    "name": "ipython",
    "version": 3
   },
   "file_extension": ".py",
   "mimetype": "text/x-python",
   "name": "python",
   "nbconvert_exporter": "python",
   "pygments_lexer": "ipython3",
   "version": "3.12.7"
  }
 },
 "nbformat": 4,
 "nbformat_minor": 2
}
